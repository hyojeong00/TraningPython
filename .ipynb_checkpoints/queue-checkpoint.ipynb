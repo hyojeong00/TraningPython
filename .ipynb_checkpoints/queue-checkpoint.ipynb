{
 "cells": [
  {
   "cell_type": "markdown",
   "id": "7dcd0260-5d5f-4e65-aaef-3440403f205a",
   "metadata": {},
   "source": [
    "# 큐(Queue)\n",
    "* 멀티태스킹을 위한 **프로세스 스케줄링 방식**을 구현하기 위해 많이 사용\n",
    "### 1. 구조\n",
    "* 줄서는 행위와 유사\n",
    "* 먼저 넣은 데이터를 가장 먼저 꺼낼 수 있음(FIFO 또는 LILO)\n",
    "* 스택과 꺼내는 순서가 반대\n",
    "* Enqueue: 큐에 데이터 넣음 / Dequeue: 큐에서 데이터 꺼냄\n",
    "\n",
    "### 2. queue 라이브러리\n",
    "* Queue(), LifoQueue(), PriorityQueue() 제공\n",
    "* Queue(): 가장 일반적인 큐\n",
    "* LifoQueue(): 나중에 입력된 자료가 먼저 출력(스택구조)\n",
    "* PriorityQueue(): 데이터마다 우선순위를 넣어서 우선순위 높은 순으로 데이터 출력"
   ]
  },
  {
   "cell_type": "markdown",
   "id": "7acd8e9b-96a5-4b06-b5bc-c521df94fe9e",
   "metadata": {},
   "source": [
    "### 3.1 Queue() - FIFO"
   ]
  },
  {
   "cell_type": "code",
   "execution_count": 1,
   "id": "96695185-7a60-4200-8cf0-3c471dc9293a",
   "metadata": {},
   "outputs": [],
   "source": [
    "import queue #라이브러리 불러오기\n",
    "q=queue.Queue()"
   ]
  },
  {
   "cell_type": "code",
   "execution_count": 2,
   "id": "aad3d45b-66d2-4d14-b67c-0048ed9c197c",
   "metadata": {},
   "outputs": [],
   "source": [
    "q.put('hello')\n",
    "q.put('world')"
   ]
  },
  {
   "cell_type": "code",
   "execution_count": 3,
   "id": "2264c682-4d72-4910-a0b5-adc30f1c31c8",
   "metadata": {},
   "outputs": [
    {
     "data": {
      "text/plain": [
       "2"
      ]
     },
     "execution_count": 3,
     "metadata": {},
     "output_type": "execute_result"
    }
   ],
   "source": [
    "q.qsize() #큐 사이즈"
   ]
  },
  {
   "cell_type": "code",
   "execution_count": 4,
   "id": "9ef51db1-1aef-4f2c-ad02-ecc24b33b50f",
   "metadata": {},
   "outputs": [
    {
     "data": {
      "text/plain": [
       "'hello'"
      ]
     },
     "execution_count": 4,
     "metadata": {},
     "output_type": "execute_result"
    }
   ],
   "source": [
    "q.get() #데이터 꺼내기"
   ]
  },
  {
   "cell_type": "code",
   "execution_count": 5,
   "id": "5467a996-fd36-42f7-875d-a1892959ad83",
   "metadata": {},
   "outputs": [
    {
     "data": {
      "text/plain": [
       "1"
      ]
     },
     "execution_count": 5,
     "metadata": {},
     "output_type": "execute_result"
    }
   ],
   "source": [
    "q.qsize()"
   ]
  },
  {
   "cell_type": "code",
   "execution_count": 6,
   "id": "1c67febd-16e8-40b6-8b7e-d272b139886c",
   "metadata": {},
   "outputs": [
    {
     "data": {
      "text/plain": [
       "'world'"
      ]
     },
     "execution_count": 6,
     "metadata": {},
     "output_type": "execute_result"
    }
   ],
   "source": [
    "q.get()"
   ]
  },
  {
   "cell_type": "markdown",
   "id": "064a529c-8638-414d-b3b6-3c127593b867",
   "metadata": {},
   "source": [
    "### 3.2 LifoQueue() - LIFO"
   ]
  },
  {
   "cell_type": "code",
   "execution_count": 8,
   "id": "8193c09f-a2e3-4649-9f4f-85a6ec297f5d",
   "metadata": {},
   "outputs": [],
   "source": [
    "q=queue.LifoQueue()"
   ]
  },
  {
   "cell_type": "code",
   "execution_count": 9,
   "id": "64b0638c-d64a-42f7-b85e-dd697011771c",
   "metadata": {},
   "outputs": [],
   "source": [
    "q.put('hello')\n",
    "q.put('world')"
   ]
  },
  {
   "cell_type": "code",
   "execution_count": 10,
   "id": "ae543740-31b8-414e-9ca8-9b5cb05d4e5b",
   "metadata": {},
   "outputs": [
    {
     "data": {
      "text/plain": [
       "'world'"
      ]
     },
     "execution_count": 10,
     "metadata": {},
     "output_type": "execute_result"
    }
   ],
   "source": [
    "q.get() # 최근 넣은것부터 나옴(스택구조)"
   ]
  },
  {
   "cell_type": "markdown",
   "id": "990a5fdd-be6e-405c-bbc3-e374458d0e7d",
   "metadata": {},
   "source": [
    "### 3.3 PriorityQueue()"
   ]
  },
  {
   "cell_type": "code",
   "execution_count": 16,
   "id": "ac32ebe1-3b0b-411d-95ad-d02538048dda",
   "metadata": {},
   "outputs": [],
   "source": [
    "q=queue.PriorityQueue()"
   ]
  },
  {
   "cell_type": "code",
   "execution_count": 17,
   "id": "80db60a8-b5aa-4295-9f31-b035304ec5f1",
   "metadata": {},
   "outputs": [],
   "source": [
    "q.put((10,'hello'))\n",
    "q.put((5,'world'))\n",
    "q.put((15,'coding'))"
   ]
  },
  {
   "cell_type": "code",
   "execution_count": 18,
   "id": "f58002db-f598-4de4-a46b-aea9ed8c240a",
   "metadata": {},
   "outputs": [
    {
     "data": {
      "text/plain": [
       "3"
      ]
     },
     "execution_count": 18,
     "metadata": {},
     "output_type": "execute_result"
    }
   ],
   "source": [
    "q.qsize()"
   ]
  },
  {
   "cell_type": "code",
   "execution_count": 19,
   "id": "61333dee-0dbe-48cd-8291-970fc7fa80b4",
   "metadata": {},
   "outputs": [
    {
     "data": {
      "text/plain": [
       "(5, 'world')"
      ]
     },
     "execution_count": 19,
     "metadata": {},
     "output_type": "execute_result"
    }
   ],
   "source": [
    "q.get() #우선순위가 높은것 먼저 get"
   ]
  },
  {
   "cell_type": "code",
   "execution_count": 20,
   "id": "fe686c73-a458-40ed-b1ae-d8c2c0056bd0",
   "metadata": {},
   "outputs": [
    {
     "data": {
      "text/plain": [
       "(10, 'hello')"
      ]
     },
     "execution_count": 20,
     "metadata": {},
     "output_type": "execute_result"
    }
   ],
   "source": [
    "q.get()"
   ]
  },
  {
   "cell_type": "code",
   "execution_count": 26,
   "id": "58991686-a8b4-4be6-adff-468a4db272cf",
   "metadata": {},
   "outputs": [],
   "source": [
    "# 리스트 변수로 큐를 다루는 enqueue, dequeue 기능 구현\n",
    "q_li=list()\n",
    "\n",
    "def enqueue(x):\n",
    "    q_li.append(x)  #리스트에 데이터 넣기\n",
    "\n",
    "def dequeue():\n",
    "    x=q_li[0]  #가장 앞에 있는 데이터 get\n",
    "    del q_li[0]\n",
    "    return x"
   ]
  },
  {
   "cell_type": "code",
   "execution_count": 27,
   "id": "572de1e6-18ea-4063-a848-d18e34a190d9",
   "metadata": {},
   "outputs": [],
   "source": [
    "for index in range(10):  #q_li에 데이터 넣기\n",
    "    enqueue(index)"
   ]
  },
  {
   "cell_type": "code",
   "execution_count": 28,
   "id": "341fd863-9cfa-4c6c-9743-4bae817a0f02",
   "metadata": {},
   "outputs": [
    {
     "data": {
      "text/plain": [
       "10"
      ]
     },
     "execution_count": 28,
     "metadata": {},
     "output_type": "execute_result"
    }
   ],
   "source": [
    "len(q_li)"
   ]
  },
  {
   "cell_type": "code",
   "execution_count": 29,
   "id": "4503f330-1ac8-4c5a-98fb-8eb91662adce",
   "metadata": {},
   "outputs": [
    {
     "data": {
      "text/plain": [
       "0"
      ]
     },
     "execution_count": 29,
     "metadata": {},
     "output_type": "execute_result"
    }
   ],
   "source": [
    "dequeue()"
   ]
  }
 ],
 "metadata": {
  "kernelspec": {
   "display_name": "Python 3",
   "language": "python",
   "name": "python3"
  },
  "language_info": {
   "codemirror_mode": {
    "name": "ipython",
    "version": 3
   },
   "file_extension": ".py",
   "mimetype": "text/x-python",
   "name": "python",
   "nbconvert_exporter": "python",
   "pygments_lexer": "ipython3",
   "version": "3.8.8"
  }
 },
 "nbformat": 4,
 "nbformat_minor": 5
}
