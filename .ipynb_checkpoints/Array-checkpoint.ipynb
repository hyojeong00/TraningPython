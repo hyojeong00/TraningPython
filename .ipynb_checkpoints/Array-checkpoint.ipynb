{
 "cells": [
  {
   "cell_type": "markdown",
   "id": "34cc8279-c07a-437b-b619-9c1bd155122f",
   "metadata": {},
   "source": [
    "# 배열(Array)\n",
    "* 데이터를 나열하고 인덱스에 대응하도록 구성한 데이터 구조\n",
    "* 리스트 타입이 배열 기능 제공\n",
    "* 같은 종류의 데이터 효율적 관리\n",
    "* 같은 종류의 데이터 순차적 저장\n",
    "* 장점: 빠른 접근 가능\n",
    "* 단점: 추가/삭제 어려움"
   ]
  },
  {
   "cell_type": "code",
   "execution_count": 1,
   "id": "c853fa1b-6e12-48fa-9c66-f7bb660ebca9",
   "metadata": {},
   "outputs": [
    {
     "data": {
      "text/plain": [
       "[1, 2, 3, 4, 5]"
      ]
     },
     "execution_count": 1,
     "metadata": {},
     "output_type": "execute_result"
    }
   ],
   "source": [
    "#1차원 배열\n",
    "li=[1,2,3,4,5]\n",
    "li"
   ]
  },
  {
   "cell_type": "code",
   "execution_count": 2,
   "id": "4366836e-c5b1-4997-9ebf-3202d3d9a096",
   "metadata": {},
   "outputs": [
    {
     "data": {
      "text/plain": [
       "[[1, 2, 3], [4, 5, 6], [7, 8, 9]]"
      ]
     },
     "execution_count": 2,
     "metadata": {},
     "output_type": "execute_result"
    }
   ],
   "source": [
    "#2차원 배열\n",
    "li=[[1,2,3],[4,5,6],[7,8,9]]\n",
    "li"
   ]
  },
  {
   "cell_type": "code",
   "execution_count": 6,
   "id": "29aa9fbb-8898-4525-a08f-964deffc11aa",
   "metadata": {},
   "outputs": [
    {
     "name": "stdout",
     "output_type": "stream",
     "text": [
      "[4, 5, 6]\n",
      "6\n",
      "3\n",
      "7\n"
     ]
    }
   ],
   "source": [
    "#접근\n",
    "print(li[1])\n",
    "print(li[1][2])\n",
    "print(li[0][2])\n",
    "print(li[2][0])"
   ]
  },
  {
   "cell_type": "code",
   "execution_count": 7,
   "id": "78f79499-29b4-4899-9d4d-286d192327b0",
   "metadata": {},
   "outputs": [
    {
     "name": "stdout",
     "output_type": "stream",
     "text": [
      "9\n",
      "8\n",
      "7\n"
     ]
    }
   ],
   "source": [
    "#배열 li에서 9,8,7 순서대로 출력\n",
    "print(li[2][2])\n",
    "print(li[2][1])\n",
    "print(li[2][0])"
   ]
  },
  {
   "cell_type": "code",
   "execution_count": 8,
   "id": "3cf3184c-cf83-4e3b-99ca-6927a27b3366",
   "metadata": {},
   "outputs": [],
   "source": [
    "dataset = ['Braund, Mr. Owen Harris',\n",
    "'Cumings, Mrs. John Bradley (Florence Briggs Thayer)',\n",
    "'Heikkinen, Miss. Laina',\n",
    "'Futrelle, Mrs. Jacques Heath (Lily May Peel)',\n",
    "'Allen, Mr. William Henry',\n",
    "'Moran, Mr. James',\n",
    "'McCarthy, Mr. Timothy J',\n",
    "'Palsson, Master. Gosta Leonard',\n",
    "'Johnson, Mrs. Oscar W (Elisabeth Vilhelmina Berg)',\n",
    "'Nasser, Mrs. Nicholas (Adele Achem)',\n",
    "'Sandstrom, Miss. Marguerite Rut',\n",
    "'Bonnell, Miss. Elizabeth',\n",
    "'Saundercock, Mr. William Henry',\n",
    "'Andersson, Mr. Anders Johan',\n",
    "'Vestrom, Miss. Hulda Amanda Adolfina',\n",
    "'Hewlett, Mrs. (Mary D Kingcome) ',\n",
    "'Rice, Master. Eugene',\n",
    "'Williams, Mr. Charles Eugene',\n",
    "'Vander Planke, Mrs. Julius (Emelia Maria Vandemoortele)',\n",
    "'Masselmani, Mrs. Fatima',\n",
    "'Fynney, Mr. Joseph J',\n",
    "'Beesley, Mr. Lawrence',\n",
    "'McGowan, Miss. Anna \"Annie\"',\n",
    "'Sloper, Mr. William Thompson',\n",
    "'Palsson, Miss. Torborg Danira',\n",
    "'Asplund, Mrs. Carl Oscar (Selma Augusta Emilia Johansson)',\n",
    "'Emir, Mr. Farred Chehab',\n",
    "'Fortune, Mr. Charles Alexander',\n",
    "'Dwyer, Miss. Ellen \"Nellie\"',\n",
    "'Todoroff, Mr. Lalio']"
   ]
  },
  {
   "cell_type": "code",
   "execution_count": 9,
   "id": "e11ffa97-68e2-4ba1-a842-457a422ae190",
   "metadata": {},
   "outputs": [
    {
     "name": "stdout",
     "output_type": "stream",
     "text": [
      "38\n"
     ]
    }
   ],
   "source": [
    "#dataset에서 m이 몇번 들어갔는지 빈도수 출력\n",
    "cnt=0\n",
    "for data in dataset:  #dataset의 요소들을 하나씩 가져옴\n",
    "    for index in range(len(data)):  #문자하나하나 확인\n",
    "        if data[index]=='M':\n",
    "            cnt+=1\n",
    "print(cnt)"
   ]
  }
 ],
 "metadata": {
  "kernelspec": {
   "display_name": "Python 3",
   "language": "python",
   "name": "python3"
  },
  "language_info": {
   "codemirror_mode": {
    "name": "ipython",
    "version": 3
   },
   "file_extension": ".py",
   "mimetype": "text/x-python",
   "name": "python",
   "nbconvert_exporter": "python",
   "pygments_lexer": "ipython3",
   "version": "3.8.8"
  }
 },
 "nbformat": 4,
 "nbformat_minor": 5
}
