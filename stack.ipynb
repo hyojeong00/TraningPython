{
 "cells": [
  {
   "cell_type": "markdown",
   "id": "71ef5249-d94c-4579-85ff-b807eb679bb8",
   "metadata": {},
   "source": [
    "# 스택(Stack)\n",
    "* 컴퓨터 내부 프로세스 구조의 함수 동작 방식에 활용\n",
    "* 데이터를 제한적으로 접근 - 한쪽 끝에서만 자료를 넣거나 뺄 수 있음\n",
    "* LIFO\n",
    "* 장점- 구조 단순, 저장/읽기 속도 빠름\n",
    "* 단점- 데이터 최대 갯수 미리 정해야함/저장공간의 낭비\n",
    "\n",
    "### 1. 구조\n",
    "* LIFO\n",
    "* push(): 데이터를 스택에 넣기\n",
    "* pop(): 데이터를 스택에서 꺼내기"
   ]
  },
  {
   "cell_type": "code",
   "execution_count": 3,
   "id": "6f8a7c52-e4fd-4d9b-b918-ed45d76b4970",
   "metadata": {},
   "outputs": [
    {
     "name": "stdout",
     "output_type": "stream",
     "text": [
      "5\n",
      "4\n",
      "3\n",
      "2\n",
      "1\n",
      "0\n",
      "ended\n",
      "returned 0\n",
      "returned 1\n",
      "returned 2\n",
      "returned 3\n",
      "returned 4\n",
      "returned 5\n"
     ]
    }
   ],
   "source": [
    "# 재귀함수\n",
    "def recursive(x):\n",
    "    if x<0:\n",
    "        print('ended')\n",
    "    else:\n",
    "        print(x)\n",
    "        recursive(x-1)\n",
    "        print('returned',x)\n",
    "recursive(5)"
   ]
  },
  {
   "cell_type": "markdown",
   "id": "9f067956-c934-4b8c-b320-e7065c496e9a",
   "metadata": {},
   "source": [
    "### 2. 리스트가 제공하는 메서드로 스택 사용\n",
    "* append(push), pop"
   ]
  },
  {
   "cell_type": "code",
   "execution_count": 6,
   "id": "c4208216-b3c6-48d1-b04e-55c5c5909079",
   "metadata": {},
   "outputs": [
    {
     "data": {
      "text/plain": [
       "['hello', 'world']"
      ]
     },
     "execution_count": 6,
     "metadata": {},
     "output_type": "execute_result"
    }
   ],
   "source": [
    "s=list()\n",
    "s.append('hello')\n",
    "s.append('world')\n",
    "s"
   ]
  },
  {
   "cell_type": "code",
   "execution_count": 7,
   "id": "c4331d54-85f5-418e-a702-bcc8d365e3ee",
   "metadata": {},
   "outputs": [
    {
     "data": {
      "text/plain": [
       "'world'"
      ]
     },
     "execution_count": 7,
     "metadata": {},
     "output_type": "execute_result"
    }
   ],
   "source": [
    "s.pop()"
   ]
  },
  {
   "cell_type": "code",
   "execution_count": 11,
   "id": "9a8b4deb-6391-4b7b-ab28-44db6f52ff28",
   "metadata": {},
   "outputs": [],
   "source": [
    "# pop, push 기능 구현\n",
    "s=list()\n",
    "\n",
    "def push(x):  #append(push) 기능\n",
    "    s.append(x)\n",
    "    \n",
    "def pop():\n",
    "    data=s[-1]\n",
    "    del s[-1]  #리스트의 가장 마지막 요소 삭제\n",
    "    return data  #데이터 리턴\n",
    "\n",
    "for i in range(10):\n",
    "    push(i)  #0~9 push"
   ]
  },
  {
   "cell_type": "code",
   "execution_count": 12,
   "id": "482b9413-6b20-4db0-8a93-45c557aba4c4",
   "metadata": {},
   "outputs": [
    {
     "data": {
      "text/plain": [
       "9"
      ]
     },
     "execution_count": 12,
     "metadata": {},
     "output_type": "execute_result"
    }
   ],
   "source": [
    "pop() #가장 마지막 9 push"
   ]
  }
 ],
 "metadata": {
  "kernelspec": {
   "display_name": "Python 3",
   "language": "python",
   "name": "python3"
  },
  "language_info": {
   "codemirror_mode": {
    "name": "ipython",
    "version": 3
   },
   "file_extension": ".py",
   "mimetype": "text/x-python",
   "name": "python",
   "nbconvert_exporter": "python",
   "pygments_lexer": "ipython3",
   "version": "3.8.8"
  }
 },
 "nbformat": 4,
 "nbformat_minor": 5
}
